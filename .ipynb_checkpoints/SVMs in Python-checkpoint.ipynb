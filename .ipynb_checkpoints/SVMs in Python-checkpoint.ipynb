{
 "cells": [
  {
   "cell_type": "markdown",
   "metadata": {},
   "source": [
    "# Performing SVMs in Python"
   ]
  },
  {
   "cell_type": "code",
   "execution_count": 1,
   "metadata": {},
   "outputs": [],
   "source": [
    "import os\n",
    "import numpy as np\n",
    "import pandas as pd"
   ]
  },
  {
   "cell_type": "code",
   "execution_count": 2,
   "metadata": {},
   "outputs": [],
   "source": [
    "training_path=os.path.join('data', 'wildfires_train.csv')\n",
    "testing_path=os.path.join('data', 'wildfires_test.csv')\n",
    "\n",
    "training_data=pd.read_csv(training_path)\n",
    "testing_data=pd.read_csv(testing_path)"
   ]
  },
  {
   "cell_type": "code",
   "execution_count": 3,
   "metadata": {},
   "outputs": [
    {
     "data": {
      "text/html": [
       "<div>\n",
       "<style scoped>\n",
       "    .dataframe tbody tr th:only-of-type {\n",
       "        vertical-align: middle;\n",
       "    }\n",
       "\n",
       "    .dataframe tbody tr th {\n",
       "        vertical-align: top;\n",
       "    }\n",
       "\n",
       "    .dataframe thead th {\n",
       "        text-align: right;\n",
       "    }\n",
       "</style>\n",
       "<table border=\"1\" class=\"dataframe\">\n",
       "  <thead>\n",
       "    <tr style=\"text-align: right;\">\n",
       "      <th></th>\n",
       "      <th>x</th>\n",
       "      <th>y</th>\n",
       "      <th>temp</th>\n",
       "      <th>humidity</th>\n",
       "      <th>windspd</th>\n",
       "      <th>winddir</th>\n",
       "      <th>rain</th>\n",
       "      <th>days</th>\n",
       "      <th>vulnerable</th>\n",
       "      <th>other</th>\n",
       "      <th>ranger</th>\n",
       "      <th>pre1950</th>\n",
       "      <th>heli</th>\n",
       "      <th>resources</th>\n",
       "      <th>traffic</th>\n",
       "      <th>burned</th>\n",
       "      <th>wlf</th>\n",
       "    </tr>\n",
       "  </thead>\n",
       "  <tbody>\n",
       "    <tr>\n",
       "      <td>0</td>\n",
       "      <td>7.834467</td>\n",
       "      <td>8.306801</td>\n",
       "      <td>99.506964</td>\n",
       "      <td>65.940704</td>\n",
       "      <td>7.614523</td>\n",
       "      <td>W</td>\n",
       "      <td>0.000037</td>\n",
       "      <td>127</td>\n",
       "      <td>1157.377161</td>\n",
       "      <td>0</td>\n",
       "      <td>0</td>\n",
       "      <td>1</td>\n",
       "      <td>0</td>\n",
       "      <td>117.067076</td>\n",
       "      <td>med</td>\n",
       "      <td>791.620319</td>\n",
       "      <td>0</td>\n",
       "    </tr>\n",
       "    <tr>\n",
       "      <td>1</td>\n",
       "      <td>2.694922</td>\n",
       "      <td>3.551933</td>\n",
       "      <td>69.887657</td>\n",
       "      <td>31.895045</td>\n",
       "      <td>6.534184</td>\n",
       "      <td>E</td>\n",
       "      <td>0.000040</td>\n",
       "      <td>115</td>\n",
       "      <td>1134.429689</td>\n",
       "      <td>0</td>\n",
       "      <td>1</td>\n",
       "      <td>0</td>\n",
       "      <td>1</td>\n",
       "      <td>127.598019</td>\n",
       "      <td>hi</td>\n",
       "      <td>451.951898</td>\n",
       "      <td>0</td>\n",
       "    </tr>\n",
       "    <tr>\n",
       "      <td>2</td>\n",
       "      <td>6.498186</td>\n",
       "      <td>4.106111</td>\n",
       "      <td>91.152930</td>\n",
       "      <td>57.606073</td>\n",
       "      <td>11.580965</td>\n",
       "      <td>SE</td>\n",
       "      <td>0.000041</td>\n",
       "      <td>119</td>\n",
       "      <td>1209.603068</td>\n",
       "      <td>0</td>\n",
       "      <td>0</td>\n",
       "      <td>0</td>\n",
       "      <td>1</td>\n",
       "      <td>132.273679</td>\n",
       "      <td>hi</td>\n",
       "      <td>584.451361</td>\n",
       "      <td>1</td>\n",
       "    </tr>\n",
       "    <tr>\n",
       "      <td>3</td>\n",
       "      <td>8.750841</td>\n",
       "      <td>8.887995</td>\n",
       "      <td>54.360593</td>\n",
       "      <td>46.166720</td>\n",
       "      <td>15.383351</td>\n",
       "      <td>E</td>\n",
       "      <td>0.000040</td>\n",
       "      <td>112</td>\n",
       "      <td>1118.691631</td>\n",
       "      <td>0</td>\n",
       "      <td>0</td>\n",
       "      <td>0</td>\n",
       "      <td>0</td>\n",
       "      <td>116.482609</td>\n",
       "      <td>hi</td>\n",
       "      <td>589.681584</td>\n",
       "      <td>1</td>\n",
       "    </tr>\n",
       "    <tr>\n",
       "      <td>4</td>\n",
       "      <td>9.200210</td>\n",
       "      <td>9.810147</td>\n",
       "      <td>77.442791</td>\n",
       "      <td>25.490945</td>\n",
       "      <td>7.096639</td>\n",
       "      <td>NW</td>\n",
       "      <td>0.000045</td>\n",
       "      <td>146</td>\n",
       "      <td>1319.237687</td>\n",
       "      <td>0</td>\n",
       "      <td>0</td>\n",
       "      <td>1</td>\n",
       "      <td>0</td>\n",
       "      <td>136.521750</td>\n",
       "      <td>lo</td>\n",
       "      <td>1010.567058</td>\n",
       "      <td>0</td>\n",
       "    </tr>\n",
       "    <tr>\n",
       "      <td>...</td>\n",
       "      <td>...</td>\n",
       "      <td>...</td>\n",
       "      <td>...</td>\n",
       "      <td>...</td>\n",
       "      <td>...</td>\n",
       "      <td>...</td>\n",
       "      <td>...</td>\n",
       "      <td>...</td>\n",
       "      <td>...</td>\n",
       "      <td>...</td>\n",
       "      <td>...</td>\n",
       "      <td>...</td>\n",
       "      <td>...</td>\n",
       "      <td>...</td>\n",
       "      <td>...</td>\n",
       "      <td>...</td>\n",
       "      <td>...</td>\n",
       "    </tr>\n",
       "    <tr>\n",
       "      <td>345</td>\n",
       "      <td>0.550395</td>\n",
       "      <td>-6.851378</td>\n",
       "      <td>78.875952</td>\n",
       "      <td>37.214804</td>\n",
       "      <td>19.326215</td>\n",
       "      <td>S</td>\n",
       "      <td>0.000037</td>\n",
       "      <td>113</td>\n",
       "      <td>1070.498607</td>\n",
       "      <td>0</td>\n",
       "      <td>1</td>\n",
       "      <td>0</td>\n",
       "      <td>1</td>\n",
       "      <td>126.517723</td>\n",
       "      <td>lo</td>\n",
       "      <td>509.784673</td>\n",
       "      <td>1</td>\n",
       "    </tr>\n",
       "    <tr>\n",
       "      <td>346</td>\n",
       "      <td>5.365330</td>\n",
       "      <td>-3.866973</td>\n",
       "      <td>79.373600</td>\n",
       "      <td>42.774894</td>\n",
       "      <td>12.080757</td>\n",
       "      <td>NE</td>\n",
       "      <td>0.000046</td>\n",
       "      <td>128</td>\n",
       "      <td>1273.699945</td>\n",
       "      <td>0</td>\n",
       "      <td>1</td>\n",
       "      <td>0</td>\n",
       "      <td>1</td>\n",
       "      <td>142.413268</td>\n",
       "      <td>med</td>\n",
       "      <td>846.705612</td>\n",
       "      <td>1</td>\n",
       "    </tr>\n",
       "    <tr>\n",
       "      <td>347</td>\n",
       "      <td>5.958981</td>\n",
       "      <td>-4.975306</td>\n",
       "      <td>77.864578</td>\n",
       "      <td>44.738565</td>\n",
       "      <td>11.269098</td>\n",
       "      <td>NW</td>\n",
       "      <td>0.000040</td>\n",
       "      <td>122</td>\n",
       "      <td>1133.174647</td>\n",
       "      <td>0</td>\n",
       "      <td>1</td>\n",
       "      <td>0</td>\n",
       "      <td>1</td>\n",
       "      <td>128.566696</td>\n",
       "      <td>med</td>\n",
       "      <td>610.056881</td>\n",
       "      <td>0</td>\n",
       "    </tr>\n",
       "    <tr>\n",
       "      <td>348</td>\n",
       "      <td>4.835158</td>\n",
       "      <td>-4.434441</td>\n",
       "      <td>77.095744</td>\n",
       "      <td>34.444851</td>\n",
       "      <td>5.439857</td>\n",
       "      <td>S</td>\n",
       "      <td>0.000046</td>\n",
       "      <td>131</td>\n",
       "      <td>1306.927261</td>\n",
       "      <td>0</td>\n",
       "      <td>1</td>\n",
       "      <td>0</td>\n",
       "      <td>0</td>\n",
       "      <td>138.910058</td>\n",
       "      <td>med</td>\n",
       "      <td>896.484081</td>\n",
       "      <td>0</td>\n",
       "    </tr>\n",
       "    <tr>\n",
       "      <td>349</td>\n",
       "      <td>6.140167</td>\n",
       "      <td>-3.847751</td>\n",
       "      <td>82.862780</td>\n",
       "      <td>53.364184</td>\n",
       "      <td>18.766835</td>\n",
       "      <td>SW</td>\n",
       "      <td>0.000040</td>\n",
       "      <td>132</td>\n",
       "      <td>1192.543623</td>\n",
       "      <td>0</td>\n",
       "      <td>0</td>\n",
       "      <td>1</td>\n",
       "      <td>0</td>\n",
       "      <td>122.533570</td>\n",
       "      <td>hi</td>\n",
       "      <td>744.254372</td>\n",
       "      <td>0</td>\n",
       "    </tr>\n",
       "  </tbody>\n",
       "</table>\n",
       "<p>350 rows × 17 columns</p>\n",
       "</div>"
      ],
      "text/plain": [
       "            x         y       temp   humidity    windspd winddir      rain  \\\n",
       "0    7.834467  8.306801  99.506964  65.940704   7.614523       W  0.000037   \n",
       "1    2.694922  3.551933  69.887657  31.895045   6.534184       E  0.000040   \n",
       "2    6.498186  4.106111  91.152930  57.606073  11.580965      SE  0.000041   \n",
       "3    8.750841  8.887995  54.360593  46.166720  15.383351       E  0.000040   \n",
       "4    9.200210  9.810147  77.442791  25.490945   7.096639      NW  0.000045   \n",
       "..        ...       ...        ...        ...        ...     ...       ...   \n",
       "345  0.550395 -6.851378  78.875952  37.214804  19.326215       S  0.000037   \n",
       "346  5.365330 -3.866973  79.373600  42.774894  12.080757      NE  0.000046   \n",
       "347  5.958981 -4.975306  77.864578  44.738565  11.269098      NW  0.000040   \n",
       "348  4.835158 -4.434441  77.095744  34.444851   5.439857       S  0.000046   \n",
       "349  6.140167 -3.847751  82.862780  53.364184  18.766835      SW  0.000040   \n",
       "\n",
       "     days   vulnerable  other  ranger  pre1950  heli   resources traffic  \\\n",
       "0     127  1157.377161      0       0        1     0  117.067076     med   \n",
       "1     115  1134.429689      0       1        0     1  127.598019      hi   \n",
       "2     119  1209.603068      0       0        0     1  132.273679      hi   \n",
       "3     112  1118.691631      0       0        0     0  116.482609      hi   \n",
       "4     146  1319.237687      0       0        1     0  136.521750      lo   \n",
       "..    ...          ...    ...     ...      ...   ...         ...     ...   \n",
       "345   113  1070.498607      0       1        0     1  126.517723      lo   \n",
       "346   128  1273.699945      0       1        0     1  142.413268     med   \n",
       "347   122  1133.174647      0       1        0     1  128.566696     med   \n",
       "348   131  1306.927261      0       1        0     0  138.910058     med   \n",
       "349   132  1192.543623      0       0        1     0  122.533570      hi   \n",
       "\n",
       "          burned  wlf  \n",
       "0     791.620319    0  \n",
       "1     451.951898    0  \n",
       "2     584.451361    1  \n",
       "3     589.681584    1  \n",
       "4    1010.567058    0  \n",
       "..           ...  ...  \n",
       "345   509.784673    1  \n",
       "346   846.705612    1  \n",
       "347   610.056881    0  \n",
       "348   896.484081    0  \n",
       "349   744.254372    0  \n",
       "\n",
       "[350 rows x 17 columns]"
      ]
     },
     "execution_count": 3,
     "metadata": {},
     "output_type": "execute_result"
    }
   ],
   "source": [
    "training_data"
   ]
  },
  {
   "cell_type": "code",
   "execution_count": 4,
   "metadata": {},
   "outputs": [],
   "source": [
    "from sklearn.pipeline import Pipeline\n",
    "from sklearn.preprocessing import StandardScaler\n",
    "from sklearn.preprocessing import OneHotEncoder\n",
    "from sklearn.svm import SVC # importing the support vector classifier"
   ]
  },
  {
   "cell_type": "code",
   "execution_count": 5,
   "metadata": {},
   "outputs": [
    {
     "data": {
      "text/plain": [
       "0      False\n",
       "1      False\n",
       "2       True\n",
       "3       True\n",
       "4      False\n",
       "       ...  \n",
       "345     True\n",
       "346     True\n",
       "347    False\n",
       "348    False\n",
       "349    False\n",
       "Name: wlf, Length: 350, dtype: bool"
      ]
     },
     "execution_count": 5,
     "metadata": {},
     "output_type": "execute_result"
    }
   ],
   "source": [
    "x_train=training_data.drop('wlf', axis=1)\n",
    "y_train=training_data['wlf'].astype(np.bool)\n",
    "y_train"
   ]
  },
  {
   "cell_type": "markdown",
   "metadata": {},
   "source": [
    "Before training and tuning an SVM I will use a random subset of the data to see how SVM syntax works in the SVCLinear class."
   ]
  },
  {
   "cell_type": "code",
   "execution_count": 6,
   "metadata": {},
   "outputs": [
    {
     "data": {
      "text/plain": [
       "(350, 16)"
      ]
     },
     "execution_count": 6,
     "metadata": {},
     "output_type": "execute_result"
    }
   ],
   "source": [
    "x_train.shape"
   ]
  },
  {
   "cell_type": "markdown",
   "metadata": {},
   "source": [
    "It is possible to implement an SVM using the LinearSVC or the SVC by setting the kernel='linear'. I will use the SVC method since it allows for the use of the kernel trick.\n",
    "\n",
    "Support Vector Machines are sensitive to the scale of the features. For this reason, we are going to engineer the features to have them all on a normal scale. We will create a pipeline to do this for us."
   ]
  },
  {
   "cell_type": "code",
   "execution_count": 7,
   "metadata": {},
   "outputs": [
    {
     "name": "stdout",
     "output_type": "stream",
     "text": [
      "<class 'pandas.core.frame.DataFrame'>\n",
      "RangeIndex: 350 entries, 0 to 349\n",
      "Data columns (total 16 columns):\n",
      "x             350 non-null float64\n",
      "y             350 non-null float64\n",
      "temp          350 non-null float64\n",
      "humidity      350 non-null float64\n",
      "windspd       350 non-null float64\n",
      "winddir       350 non-null object\n",
      "rain          350 non-null float64\n",
      "days          350 non-null int64\n",
      "vulnerable    350 non-null float64\n",
      "other         350 non-null int64\n",
      "ranger        350 non-null int64\n",
      "pre1950       350 non-null int64\n",
      "heli          350 non-null int64\n",
      "resources     350 non-null float64\n",
      "traffic       350 non-null object\n",
      "burned        350 non-null float64\n",
      "dtypes: float64(9), int64(5), object(2)\n",
      "memory usage: 43.9+ KB\n"
     ]
    }
   ],
   "source": [
    "x_train.info()"
   ]
  },
  {
   "cell_type": "code",
   "execution_count": 8,
   "metadata": {},
   "outputs": [
    {
     "data": {
      "text/plain": [
       "['winddir', 'traffic']"
      ]
     },
     "execution_count": 8,
     "metadata": {},
     "output_type": "execute_result"
    }
   ],
   "source": [
    "categorical_attribs=list(x_train.select_dtypes(include=['object']))\n",
    "categorical_attribs"
   ]
  },
  {
   "cell_type": "code",
   "execution_count": 9,
   "metadata": {},
   "outputs": [
    {
     "data": {
      "text/plain": [
       "['x',\n",
       " 'y',\n",
       " 'temp',\n",
       " 'humidity',\n",
       " 'windspd',\n",
       " 'rain',\n",
       " 'vulnerable',\n",
       " 'resources',\n",
       " 'burned',\n",
       " 'days']"
      ]
     },
     "execution_count": 9,
     "metadata": {},
     "output_type": "execute_result"
    }
   ],
   "source": [
    "numerical_attribs=list(x_train.select_dtypes(include=['float64']))\n",
    "numerical_attribs.append('days')\n",
    "numerical_attribs"
   ]
  },
  {
   "cell_type": "code",
   "execution_count": 10,
   "metadata": {},
   "outputs": [
    {
     "data": {
      "text/plain": [
       "['other', 'ranger', 'pre1950', 'heli']"
      ]
     },
     "execution_count": 10,
     "metadata": {},
     "output_type": "execute_result"
    }
   ],
   "source": [
    "int_attribs=list(x_train.select_dtypes(include=['int64']))\n",
    "int_attribs.remove('days')\n",
    "int_attribs"
   ]
  },
  {
   "cell_type": "code",
   "execution_count": 11,
   "metadata": {},
   "outputs": [],
   "source": [
    "from sklearn.compose import ColumnTransformer"
   ]
  },
  {
   "cell_type": "code",
   "execution_count": 12,
   "metadata": {},
   "outputs": [],
   "source": [
    "full_pipeline=ColumnTransformer([\n",
    "    ('num', StandardScaler(), numerical_attribs),\n",
    "    ('int', 'passthrough', int_attribs),\n",
    "    ('cat', OneHotEncoder(), categorical_attribs)\n",
    "])"
   ]
  },
  {
   "cell_type": "code",
   "execution_count": 13,
   "metadata": {},
   "outputs": [],
   "source": [
    "x_train_prepared=full_pipeline.fit_transform(x_train)"
   ]
  },
  {
   "cell_type": "code",
   "execution_count": 14,
   "metadata": {},
   "outputs": [
    {
     "data": {
      "text/html": [
       "<div>\n",
       "<style scoped>\n",
       "    .dataframe tbody tr th:only-of-type {\n",
       "        vertical-align: middle;\n",
       "    }\n",
       "\n",
       "    .dataframe tbody tr th {\n",
       "        vertical-align: top;\n",
       "    }\n",
       "\n",
       "    .dataframe thead th {\n",
       "        text-align: right;\n",
       "    }\n",
       "</style>\n",
       "<table border=\"1\" class=\"dataframe\">\n",
       "  <thead>\n",
       "    <tr style=\"text-align: right;\">\n",
       "      <th></th>\n",
       "      <th>0</th>\n",
       "      <th>1</th>\n",
       "      <th>2</th>\n",
       "      <th>3</th>\n",
       "      <th>4</th>\n",
       "      <th>5</th>\n",
       "      <th>6</th>\n",
       "      <th>7</th>\n",
       "      <th>8</th>\n",
       "      <th>9</th>\n",
       "      <th>...</th>\n",
       "      <th>15</th>\n",
       "      <th>16</th>\n",
       "      <th>17</th>\n",
       "      <th>18</th>\n",
       "      <th>19</th>\n",
       "      <th>20</th>\n",
       "      <th>21</th>\n",
       "      <th>22</th>\n",
       "      <th>23</th>\n",
       "      <th>24</th>\n",
       "    </tr>\n",
       "  </thead>\n",
       "  <tbody>\n",
       "    <tr>\n",
       "      <td>0</td>\n",
       "      <td>1.058997</td>\n",
       "      <td>1.179363</td>\n",
       "      <td>1.664751</td>\n",
       "      <td>1.604212</td>\n",
       "      <td>-0.605487</td>\n",
       "      <td>-0.979828</td>\n",
       "      <td>-0.193299</td>\n",
       "      <td>-0.601602</td>\n",
       "      <td>0.345383</td>\n",
       "      <td>0.298482</td>\n",
       "      <td>...</td>\n",
       "      <td>0.0</td>\n",
       "      <td>0.0</td>\n",
       "      <td>0.0</td>\n",
       "      <td>0.0</td>\n",
       "      <td>0.0</td>\n",
       "      <td>0.0</td>\n",
       "      <td>1.0</td>\n",
       "      <td>0.0</td>\n",
       "      <td>0.0</td>\n",
       "      <td>1.0</td>\n",
       "    </tr>\n",
       "    <tr>\n",
       "      <td>1</td>\n",
       "      <td>-0.004220</td>\n",
       "      <td>0.430835</td>\n",
       "      <td>-0.186346</td>\n",
       "      <td>-0.340026</td>\n",
       "      <td>-0.823074</td>\n",
       "      <td>-0.264558</td>\n",
       "      <td>-0.383529</td>\n",
       "      <td>0.338616</td>\n",
       "      <td>-0.807130</td>\n",
       "      <td>-0.400694</td>\n",
       "      <td>...</td>\n",
       "      <td>0.0</td>\n",
       "      <td>0.0</td>\n",
       "      <td>0.0</td>\n",
       "      <td>0.0</td>\n",
       "      <td>0.0</td>\n",
       "      <td>0.0</td>\n",
       "      <td>0.0</td>\n",
       "      <td>1.0</td>\n",
       "      <td>0.0</td>\n",
       "      <td>0.0</td>\n",
       "    </tr>\n",
       "    <tr>\n",
       "      <td>2</td>\n",
       "      <td>0.782561</td>\n",
       "      <td>0.518076</td>\n",
       "      <td>1.142654</td>\n",
       "      <td>1.128248</td>\n",
       "      <td>0.193379</td>\n",
       "      <td>0.000088</td>\n",
       "      <td>0.239641</td>\n",
       "      <td>0.756067</td>\n",
       "      <td>-0.357553</td>\n",
       "      <td>-0.167636</td>\n",
       "      <td>...</td>\n",
       "      <td>0.0</td>\n",
       "      <td>0.0</td>\n",
       "      <td>0.0</td>\n",
       "      <td>0.0</td>\n",
       "      <td>1.0</td>\n",
       "      <td>0.0</td>\n",
       "      <td>0.0</td>\n",
       "      <td>1.0</td>\n",
       "      <td>0.0</td>\n",
       "      <td>0.0</td>\n",
       "    </tr>\n",
       "    <tr>\n",
       "      <td>3</td>\n",
       "      <td>1.248567</td>\n",
       "      <td>1.270857</td>\n",
       "      <td>-1.156730</td>\n",
       "      <td>0.474984</td>\n",
       "      <td>0.959202</td>\n",
       "      <td>-0.319820</td>\n",
       "      <td>-0.513994</td>\n",
       "      <td>-0.653785</td>\n",
       "      <td>-0.339806</td>\n",
       "      <td>-0.575488</td>\n",
       "      <td>...</td>\n",
       "      <td>0.0</td>\n",
       "      <td>0.0</td>\n",
       "      <td>0.0</td>\n",
       "      <td>0.0</td>\n",
       "      <td>0.0</td>\n",
       "      <td>0.0</td>\n",
       "      <td>0.0</td>\n",
       "      <td>1.0</td>\n",
       "      <td>0.0</td>\n",
       "      <td>0.0</td>\n",
       "    </tr>\n",
       "    <tr>\n",
       "      <td>4</td>\n",
       "      <td>1.341528</td>\n",
       "      <td>1.416025</td>\n",
       "      <td>0.285822</td>\n",
       "      <td>-0.705743</td>\n",
       "      <td>-0.709792</td>\n",
       "      <td>0.985156</td>\n",
       "      <td>1.148488</td>\n",
       "      <td>1.135341</td>\n",
       "      <td>1.088280</td>\n",
       "      <td>1.405510</td>\n",
       "      <td>...</td>\n",
       "      <td>0.0</td>\n",
       "      <td>0.0</td>\n",
       "      <td>1.0</td>\n",
       "      <td>0.0</td>\n",
       "      <td>0.0</td>\n",
       "      <td>0.0</td>\n",
       "      <td>0.0</td>\n",
       "      <td>0.0</td>\n",
       "      <td>1.0</td>\n",
       "      <td>0.0</td>\n",
       "    </tr>\n",
       "    <tr>\n",
       "      <td>...</td>\n",
       "      <td>...</td>\n",
       "      <td>...</td>\n",
       "      <td>...</td>\n",
       "      <td>...</td>\n",
       "      <td>...</td>\n",
       "      <td>...</td>\n",
       "      <td>...</td>\n",
       "      <td>...</td>\n",
       "      <td>...</td>\n",
       "      <td>...</td>\n",
       "      <td>...</td>\n",
       "      <td>...</td>\n",
       "      <td>...</td>\n",
       "      <td>...</td>\n",
       "      <td>...</td>\n",
       "      <td>...</td>\n",
       "      <td>...</td>\n",
       "      <td>...</td>\n",
       "      <td>...</td>\n",
       "      <td>...</td>\n",
       "      <td>...</td>\n",
       "    </tr>\n",
       "    <tr>\n",
       "      <td>345</td>\n",
       "      <td>-0.447857</td>\n",
       "      <td>-1.206890</td>\n",
       "      <td>0.375389</td>\n",
       "      <td>-0.036231</td>\n",
       "      <td>1.753319</td>\n",
       "      <td>-0.900510</td>\n",
       "      <td>-0.913503</td>\n",
       "      <td>0.242166</td>\n",
       "      <td>-0.610901</td>\n",
       "      <td>-0.517224</td>\n",
       "      <td>...</td>\n",
       "      <td>0.0</td>\n",
       "      <td>0.0</td>\n",
       "      <td>0.0</td>\n",
       "      <td>1.0</td>\n",
       "      <td>0.0</td>\n",
       "      <td>0.0</td>\n",
       "      <td>0.0</td>\n",
       "      <td>0.0</td>\n",
       "      <td>1.0</td>\n",
       "      <td>0.0</td>\n",
       "    </tr>\n",
       "    <tr>\n",
       "      <td>346</td>\n",
       "      <td>0.548207</td>\n",
       "      <td>-0.737075</td>\n",
       "      <td>0.406490</td>\n",
       "      <td>0.281287</td>\n",
       "      <td>0.294040</td>\n",
       "      <td>1.138475</td>\n",
       "      <td>0.770990</td>\n",
       "      <td>1.661345</td>\n",
       "      <td>0.532290</td>\n",
       "      <td>0.356746</td>\n",
       "      <td>...</td>\n",
       "      <td>0.0</td>\n",
       "      <td>1.0</td>\n",
       "      <td>0.0</td>\n",
       "      <td>0.0</td>\n",
       "      <td>0.0</td>\n",
       "      <td>0.0</td>\n",
       "      <td>0.0</td>\n",
       "      <td>0.0</td>\n",
       "      <td>0.0</td>\n",
       "      <td>1.0</td>\n",
       "    </tr>\n",
       "    <tr>\n",
       "      <td>347</td>\n",
       "      <td>0.671016</td>\n",
       "      <td>-0.911553</td>\n",
       "      <td>0.312182</td>\n",
       "      <td>0.393426</td>\n",
       "      <td>0.130567</td>\n",
       "      <td>-0.206082</td>\n",
       "      <td>-0.393933</td>\n",
       "      <td>0.425102</td>\n",
       "      <td>-0.270672</td>\n",
       "      <td>0.007158</td>\n",
       "      <td>...</td>\n",
       "      <td>0.0</td>\n",
       "      <td>0.0</td>\n",
       "      <td>1.0</td>\n",
       "      <td>0.0</td>\n",
       "      <td>0.0</td>\n",
       "      <td>0.0</td>\n",
       "      <td>0.0</td>\n",
       "      <td>0.0</td>\n",
       "      <td>0.0</td>\n",
       "      <td>1.0</td>\n",
       "    </tr>\n",
       "    <tr>\n",
       "      <td>348</td>\n",
       "      <td>0.438531</td>\n",
       "      <td>-0.826408</td>\n",
       "      <td>0.264133</td>\n",
       "      <td>-0.194414</td>\n",
       "      <td>-1.043478</td>\n",
       "      <td>1.032457</td>\n",
       "      <td>1.046437</td>\n",
       "      <td>1.348573</td>\n",
       "      <td>0.701191</td>\n",
       "      <td>0.531540</td>\n",
       "      <td>...</td>\n",
       "      <td>0.0</td>\n",
       "      <td>0.0</td>\n",
       "      <td>0.0</td>\n",
       "      <td>1.0</td>\n",
       "      <td>0.0</td>\n",
       "      <td>0.0</td>\n",
       "      <td>0.0</td>\n",
       "      <td>0.0</td>\n",
       "      <td>0.0</td>\n",
       "      <td>1.0</td>\n",
       "    </tr>\n",
       "    <tr>\n",
       "      <td>349</td>\n",
       "      <td>0.708497</td>\n",
       "      <td>-0.734049</td>\n",
       "      <td>0.624551</td>\n",
       "      <td>0.886008</td>\n",
       "      <td>1.640657</td>\n",
       "      <td>-0.310036</td>\n",
       "      <td>0.098223</td>\n",
       "      <td>-0.113545</td>\n",
       "      <td>0.184667</td>\n",
       "      <td>0.589805</td>\n",
       "      <td>...</td>\n",
       "      <td>0.0</td>\n",
       "      <td>0.0</td>\n",
       "      <td>0.0</td>\n",
       "      <td>0.0</td>\n",
       "      <td>0.0</td>\n",
       "      <td>1.0</td>\n",
       "      <td>0.0</td>\n",
       "      <td>1.0</td>\n",
       "      <td>0.0</td>\n",
       "      <td>0.0</td>\n",
       "    </tr>\n",
       "  </tbody>\n",
       "</table>\n",
       "<p>350 rows × 25 columns</p>\n",
       "</div>"
      ],
      "text/plain": [
       "           0         1         2         3         4         5         6   \\\n",
       "0    1.058997  1.179363  1.664751  1.604212 -0.605487 -0.979828 -0.193299   \n",
       "1   -0.004220  0.430835 -0.186346 -0.340026 -0.823074 -0.264558 -0.383529   \n",
       "2    0.782561  0.518076  1.142654  1.128248  0.193379  0.000088  0.239641   \n",
       "3    1.248567  1.270857 -1.156730  0.474984  0.959202 -0.319820 -0.513994   \n",
       "4    1.341528  1.416025  0.285822 -0.705743 -0.709792  0.985156  1.148488   \n",
       "..        ...       ...       ...       ...       ...       ...       ...   \n",
       "345 -0.447857 -1.206890  0.375389 -0.036231  1.753319 -0.900510 -0.913503   \n",
       "346  0.548207 -0.737075  0.406490  0.281287  0.294040  1.138475  0.770990   \n",
       "347  0.671016 -0.911553  0.312182  0.393426  0.130567 -0.206082 -0.393933   \n",
       "348  0.438531 -0.826408  0.264133 -0.194414 -1.043478  1.032457  1.046437   \n",
       "349  0.708497 -0.734049  0.624551  0.886008  1.640657 -0.310036  0.098223   \n",
       "\n",
       "           7         8         9   ...   15   16   17   18   19   20   21  \\\n",
       "0   -0.601602  0.345383  0.298482  ...  0.0  0.0  0.0  0.0  0.0  0.0  1.0   \n",
       "1    0.338616 -0.807130 -0.400694  ...  0.0  0.0  0.0  0.0  0.0  0.0  0.0   \n",
       "2    0.756067 -0.357553 -0.167636  ...  0.0  0.0  0.0  0.0  1.0  0.0  0.0   \n",
       "3   -0.653785 -0.339806 -0.575488  ...  0.0  0.0  0.0  0.0  0.0  0.0  0.0   \n",
       "4    1.135341  1.088280  1.405510  ...  0.0  0.0  1.0  0.0  0.0  0.0  0.0   \n",
       "..        ...       ...       ...  ...  ...  ...  ...  ...  ...  ...  ...   \n",
       "345  0.242166 -0.610901 -0.517224  ...  0.0  0.0  0.0  1.0  0.0  0.0  0.0   \n",
       "346  1.661345  0.532290  0.356746  ...  0.0  1.0  0.0  0.0  0.0  0.0  0.0   \n",
       "347  0.425102 -0.270672  0.007158  ...  0.0  0.0  1.0  0.0  0.0  0.0  0.0   \n",
       "348  1.348573  0.701191  0.531540  ...  0.0  0.0  0.0  1.0  0.0  0.0  0.0   \n",
       "349 -0.113545  0.184667  0.589805  ...  0.0  0.0  0.0  0.0  0.0  1.0  0.0   \n",
       "\n",
       "      22   23   24  \n",
       "0    0.0  0.0  1.0  \n",
       "1    1.0  0.0  0.0  \n",
       "2    1.0  0.0  0.0  \n",
       "3    1.0  0.0  0.0  \n",
       "4    0.0  1.0  0.0  \n",
       "..   ...  ...  ...  \n",
       "345  0.0  1.0  0.0  \n",
       "346  0.0  0.0  1.0  \n",
       "347  0.0  0.0  1.0  \n",
       "348  0.0  0.0  1.0  \n",
       "349  1.0  0.0  0.0  \n",
       "\n",
       "[350 rows x 25 columns]"
      ]
     },
     "execution_count": 14,
     "metadata": {},
     "output_type": "execute_result"
    }
   ],
   "source": [
    "pd.DataFrame(x_train_prepared)\n",
    "# the data should be ready to be fed into an SVM if its accepts categorical variables without one hot encoding"
   ]
  },
  {
   "cell_type": "markdown",
   "metadata": {},
   "source": [
    "### Fitting a Support Vector Classifier with a linear kernel"
   ]
  },
  {
   "cell_type": "code",
   "execution_count": 15,
   "metadata": {},
   "outputs": [],
   "source": [
    "linear_svm=SVC(C=1,\n",
    "              kernel='linear',\n",
    "              random_state=402)"
   ]
  },
  {
   "cell_type": "code",
   "execution_count": 16,
   "metadata": {},
   "outputs": [
    {
     "data": {
      "text/plain": [
       "SVC(C=1, cache_size=200, class_weight=None, coef0=0.0,\n",
       "    decision_function_shape='ovr', degree=3, gamma='auto_deprecated',\n",
       "    kernel='linear', max_iter=-1, probability=False, random_state=402,\n",
       "    shrinking=True, tol=0.001, verbose=False)"
      ]
     },
     "execution_count": 16,
     "metadata": {},
     "output_type": "execute_result"
    }
   ],
   "source": [
    "linear_svm.fit(x_train_prepared, y_train)"
   ]
  },
  {
   "cell_type": "markdown",
   "metadata": {},
   "source": [
    "Now that I have the mechanism down for training a SVC, I will define a dictionary of hyperparameters for training through RandomizedSearchCV."
   ]
  },
  {
   "cell_type": "code",
   "execution_count": 17,
   "metadata": {},
   "outputs": [],
   "source": [
    "from sklearn.model_selection import RandomizedSearchCV"
   ]
  },
  {
   "cell_type": "code",
   "execution_count": 18,
   "metadata": {},
   "outputs": [
    {
     "data": {
      "text/plain": [
       "[0.01,\n",
       " 0.11,\n",
       " 0.21000000000000002,\n",
       " 0.31000000000000005,\n",
       " 0.41000000000000003,\n",
       " 0.51,\n",
       " 0.6100000000000001,\n",
       " 0.7100000000000001,\n",
       " 0.81,\n",
       " 0.91]"
      ]
     },
     "execution_count": 18,
     "metadata": {},
     "output_type": "execute_result"
    }
   ],
   "source": [
    "C_train=[]\n",
    "for i in np.arange(0.01, 1, 0.1):\n",
    "    C_train.append(i)\n",
    "C_train"
   ]
  },
  {
   "cell_type": "code",
   "execution_count": 19,
   "metadata": {},
   "outputs": [],
   "source": [
    "parameters={'C': C_train}"
   ]
  },
  {
   "cell_type": "code",
   "execution_count": 20,
   "metadata": {},
   "outputs": [],
   "source": [
    "svc_linear=SVC(kernel='linear')"
   ]
  },
  {
   "cell_type": "code",
   "execution_count": 21,
   "metadata": {},
   "outputs": [],
   "source": [
    "random_search_linear=RandomizedSearchCV(svc_linear,\n",
    "                                        parameters,\n",
    "                                        scoring='accuracy',\n",
    "                                        n_jobs=-1,\n",
    "                                        cv=5,\n",
    "                                        random_state=402)"
   ]
  },
  {
   "cell_type": "code",
   "execution_count": 22,
   "metadata": {},
   "outputs": [
    {
     "name": "stderr",
     "output_type": "stream",
     "text": [
      "/Users/christianmontes/opt/anaconda3/lib/python3.7/site-packages/sklearn/model_selection/_search.py:814: DeprecationWarning: The default of the `iid` parameter will change from True to False in version 0.22 and will be removed in 0.24. This will change numeric results when test-set sizes are unequal.\n",
      "  DeprecationWarning)\n"
     ]
    },
    {
     "data": {
      "text/plain": [
       "RandomizedSearchCV(cv=5, error_score='raise-deprecating',\n",
       "                   estimator=SVC(C=1.0, cache_size=200, class_weight=None,\n",
       "                                 coef0=0.0, decision_function_shape='ovr',\n",
       "                                 degree=3, gamma='auto_deprecated',\n",
       "                                 kernel='linear', max_iter=-1,\n",
       "                                 probability=False, random_state=None,\n",
       "                                 shrinking=True, tol=0.001, verbose=False),\n",
       "                   iid='warn', n_iter=10, n_jobs=-1,\n",
       "                   param_distributions={'C': [0.01, 0.11, 0.21000000000000002,\n",
       "                                              0.31000000000000005,\n",
       "                                              0.41000000000000003, 0.51,\n",
       "                                              0.6100000000000001,\n",
       "                                              0.7100000000000001, 0.81, 0.91]},\n",
       "                   pre_dispatch='2*n_jobs', random_state=402, refit=True,\n",
       "                   return_train_score=False, scoring='accuracy', verbose=0)"
      ]
     },
     "execution_count": 22,
     "metadata": {},
     "output_type": "execute_result"
    }
   ],
   "source": [
    "random_search_linear.fit(x_train_prepared, y_train)"
   ]
  },
  {
   "cell_type": "markdown",
   "metadata": {},
   "source": [
    "Now that the model has been trained, we can view the best model through the best_estimator_ instance variable. Because the hyperparameter of the RandomizedSearchCV class, refit, is True, the best estimator is refit on the entire training data once it is found. This facilitates the process of finding and refitting the model to the entire data."
   ]
  },
  {
   "cell_type": "code",
   "execution_count": 23,
   "metadata": {},
   "outputs": [
    {
     "data": {
      "text/plain": [
       "SVC(C=0.7100000000000001, cache_size=200, class_weight=None, coef0=0.0,\n",
       "    decision_function_shape='ovr', degree=3, gamma='auto_deprecated',\n",
       "    kernel='linear', max_iter=-1, probability=False, random_state=None,\n",
       "    shrinking=True, tol=0.001, verbose=False)"
      ]
     },
     "execution_count": 23,
     "metadata": {},
     "output_type": "execute_result"
    }
   ],
   "source": [
    "random_search_linear.best_estimator_"
   ]
  },
  {
   "cell_type": "code",
   "execution_count": 24,
   "metadata": {},
   "outputs": [],
   "source": [
    "linear_kernel_tuned=random_search_linear.best_estimator_"
   ]
  },
  {
   "cell_type": "markdown",
   "metadata": {},
   "source": [
    "Now that we have the model ready and tuned, we can evaluate its efficacy on the test data. We only need to transform the test data through the full pipeline defined above and then we are ready."
   ]
  },
  {
   "cell_type": "code",
   "execution_count": 25,
   "metadata": {},
   "outputs": [
    {
     "data": {
      "text/html": [
       "<div>\n",
       "<style scoped>\n",
       "    .dataframe tbody tr th:only-of-type {\n",
       "        vertical-align: middle;\n",
       "    }\n",
       "\n",
       "    .dataframe tbody tr th {\n",
       "        vertical-align: top;\n",
       "    }\n",
       "\n",
       "    .dataframe thead th {\n",
       "        text-align: right;\n",
       "    }\n",
       "</style>\n",
       "<table border=\"1\" class=\"dataframe\">\n",
       "  <thead>\n",
       "    <tr style=\"text-align: right;\">\n",
       "      <th></th>\n",
       "      <th>x</th>\n",
       "      <th>y</th>\n",
       "      <th>temp</th>\n",
       "      <th>humidity</th>\n",
       "      <th>windspd</th>\n",
       "      <th>winddir</th>\n",
       "      <th>rain</th>\n",
       "      <th>days</th>\n",
       "      <th>vulnerable</th>\n",
       "      <th>other</th>\n",
       "      <th>ranger</th>\n",
       "      <th>pre1950</th>\n",
       "      <th>heli</th>\n",
       "      <th>resources</th>\n",
       "      <th>traffic</th>\n",
       "      <th>burned</th>\n",
       "    </tr>\n",
       "  </thead>\n",
       "  <tbody>\n",
       "    <tr>\n",
       "      <td>0</td>\n",
       "      <td>-5.970035</td>\n",
       "      <td>2.261171</td>\n",
       "      <td>81.717155</td>\n",
       "      <td>65.937444</td>\n",
       "      <td>22.615111</td>\n",
       "      <td>W</td>\n",
       "      <td>0.000046</td>\n",
       "      <td>104</td>\n",
       "      <td>1142.188491</td>\n",
       "      <td>0</td>\n",
       "      <td>0</td>\n",
       "      <td>1</td>\n",
       "      <td>0</td>\n",
       "      <td>118.687271</td>\n",
       "      <td>hi</td>\n",
       "      <td>530.958988</td>\n",
       "    </tr>\n",
       "    <tr>\n",
       "      <td>1</td>\n",
       "      <td>9.155116</td>\n",
       "      <td>4.493022</td>\n",
       "      <td>45.856767</td>\n",
       "      <td>27.899518</td>\n",
       "      <td>8.138942</td>\n",
       "      <td>E</td>\n",
       "      <td>0.000040</td>\n",
       "      <td>86</td>\n",
       "      <td>1000.744078</td>\n",
       "      <td>0</td>\n",
       "      <td>0</td>\n",
       "      <td>1</td>\n",
       "      <td>0</td>\n",
       "      <td>99.558121</td>\n",
       "      <td>hi</td>\n",
       "      <td>384.629393</td>\n",
       "    </tr>\n",
       "    <tr>\n",
       "      <td>2</td>\n",
       "      <td>8.167393</td>\n",
       "      <td>5.607745</td>\n",
       "      <td>66.276722</td>\n",
       "      <td>58.979409</td>\n",
       "      <td>5.556471</td>\n",
       "      <td>N</td>\n",
       "      <td>0.000029</td>\n",
       "      <td>89</td>\n",
       "      <td>883.002882</td>\n",
       "      <td>0</td>\n",
       "      <td>0</td>\n",
       "      <td>0</td>\n",
       "      <td>1</td>\n",
       "      <td>103.380896</td>\n",
       "      <td>hi</td>\n",
       "      <td>159.110239</td>\n",
       "    </tr>\n",
       "    <tr>\n",
       "      <td>3</td>\n",
       "      <td>5.529441</td>\n",
       "      <td>-4.785655</td>\n",
       "      <td>95.386058</td>\n",
       "      <td>49.083016</td>\n",
       "      <td>7.903764</td>\n",
       "      <td>E</td>\n",
       "      <td>0.000039</td>\n",
       "      <td>131</td>\n",
       "      <td>1246.923737</td>\n",
       "      <td>0</td>\n",
       "      <td>0</td>\n",
       "      <td>0</td>\n",
       "      <td>1</td>\n",
       "      <td>139.599418</td>\n",
       "      <td>lo</td>\n",
       "      <td>750.251702</td>\n",
       "    </tr>\n",
       "    <tr>\n",
       "      <td>4</td>\n",
       "      <td>-0.642753</td>\n",
       "      <td>-11.483435</td>\n",
       "      <td>95.445092</td>\n",
       "      <td>68.976029</td>\n",
       "      <td>12.669320</td>\n",
       "      <td>SE</td>\n",
       "      <td>0.000044</td>\n",
       "      <td>122</td>\n",
       "      <td>1275.687006</td>\n",
       "      <td>0</td>\n",
       "      <td>0</td>\n",
       "      <td>0</td>\n",
       "      <td>0</td>\n",
       "      <td>134.417068</td>\n",
       "      <td>hi</td>\n",
       "      <td>802.996063</td>\n",
       "    </tr>\n",
       "  </tbody>\n",
       "</table>\n",
       "</div>"
      ],
      "text/plain": [
       "          x          y       temp   humidity    windspd winddir      rain  \\\n",
       "0 -5.970035   2.261171  81.717155  65.937444  22.615111       W  0.000046   \n",
       "1  9.155116   4.493022  45.856767  27.899518   8.138942       E  0.000040   \n",
       "2  8.167393   5.607745  66.276722  58.979409   5.556471       N  0.000029   \n",
       "3  5.529441  -4.785655  95.386058  49.083016   7.903764       E  0.000039   \n",
       "4 -0.642753 -11.483435  95.445092  68.976029  12.669320      SE  0.000044   \n",
       "\n",
       "   days   vulnerable  other  ranger  pre1950  heli   resources traffic  \\\n",
       "0   104  1142.188491      0       0        1     0  118.687271      hi   \n",
       "1    86  1000.744078      0       0        1     0   99.558121      hi   \n",
       "2    89   883.002882      0       0        0     1  103.380896      hi   \n",
       "3   131  1246.923737      0       0        0     1  139.599418      lo   \n",
       "4   122  1275.687006      0       0        0     0  134.417068      hi   \n",
       "\n",
       "       burned  \n",
       "0  530.958988  \n",
       "1  384.629393  \n",
       "2  159.110239  \n",
       "3  750.251702  \n",
       "4  802.996063  "
      ]
     },
     "execution_count": 25,
     "metadata": {},
     "output_type": "execute_result"
    }
   ],
   "source": [
    "x_test=testing_data.drop('wlf', axis=1)\n",
    "y_test=testing_data['wlf'].astype(np.bool)\n",
    "x_test.head()"
   ]
  },
  {
   "cell_type": "markdown",
   "metadata": {},
   "source": [
    "When transforming the test data, it is important to only use **pipeline.transform** instead of **pipeline.fit_transform** since we want the model to be evaluated based on the values that were extracted from the training data using the **.fit** method."
   ]
  },
  {
   "cell_type": "code",
   "execution_count": 26,
   "metadata": {},
   "outputs": [
    {
     "data": {
      "text/html": [
       "<div>\n",
       "<style scoped>\n",
       "    .dataframe tbody tr th:only-of-type {\n",
       "        vertical-align: middle;\n",
       "    }\n",
       "\n",
       "    .dataframe tbody tr th {\n",
       "        vertical-align: top;\n",
       "    }\n",
       "\n",
       "    .dataframe thead th {\n",
       "        text-align: right;\n",
       "    }\n",
       "</style>\n",
       "<table border=\"1\" class=\"dataframe\">\n",
       "  <thead>\n",
       "    <tr style=\"text-align: right;\">\n",
       "      <th></th>\n",
       "      <th>0</th>\n",
       "      <th>1</th>\n",
       "      <th>2</th>\n",
       "      <th>3</th>\n",
       "      <th>4</th>\n",
       "      <th>5</th>\n",
       "      <th>6</th>\n",
       "      <th>7</th>\n",
       "      <th>8</th>\n",
       "      <th>9</th>\n",
       "      <th>...</th>\n",
       "      <th>15</th>\n",
       "      <th>16</th>\n",
       "      <th>17</th>\n",
       "      <th>18</th>\n",
       "      <th>19</th>\n",
       "      <th>20</th>\n",
       "      <th>21</th>\n",
       "      <th>22</th>\n",
       "      <th>23</th>\n",
       "      <th>24</th>\n",
       "    </tr>\n",
       "  </thead>\n",
       "  <tbody>\n",
       "    <tr>\n",
       "      <td>0</td>\n",
       "      <td>-1.796737</td>\n",
       "      <td>0.227639</td>\n",
       "      <td>0.552954</td>\n",
       "      <td>1.604026</td>\n",
       "      <td>2.415723</td>\n",
       "      <td>1.177480</td>\n",
       "      <td>-0.319210</td>\n",
       "      <td>-0.456949</td>\n",
       "      <td>-0.539055</td>\n",
       "      <td>-1.041606</td>\n",
       "      <td>...</td>\n",
       "      <td>0.0</td>\n",
       "      <td>0.0</td>\n",
       "      <td>0.0</td>\n",
       "      <td>0.0</td>\n",
       "      <td>0.0</td>\n",
       "      <td>0.0</td>\n",
       "      <td>1.0</td>\n",
       "      <td>1.0</td>\n",
       "      <td>0.0</td>\n",
       "      <td>0.0</td>\n",
       "    </tr>\n",
       "    <tr>\n",
       "      <td>1</td>\n",
       "      <td>1.332199</td>\n",
       "      <td>0.578985</td>\n",
       "      <td>-1.688188</td>\n",
       "      <td>-0.568197</td>\n",
       "      <td>-0.499866</td>\n",
       "      <td>-0.297252</td>\n",
       "      <td>-1.491752</td>\n",
       "      <td>-2.164829</td>\n",
       "      <td>-1.035559</td>\n",
       "      <td>-2.090370</td>\n",
       "      <td>...</td>\n",
       "      <td>0.0</td>\n",
       "      <td>0.0</td>\n",
       "      <td>0.0</td>\n",
       "      <td>0.0</td>\n",
       "      <td>0.0</td>\n",
       "      <td>0.0</td>\n",
       "      <td>0.0</td>\n",
       "      <td>1.0</td>\n",
       "      <td>0.0</td>\n",
       "      <td>0.0</td>\n",
       "    </tr>\n",
       "    <tr>\n",
       "      <td>2</td>\n",
       "      <td>1.127869</td>\n",
       "      <td>0.754469</td>\n",
       "      <td>-0.412016</td>\n",
       "      <td>1.206675</td>\n",
       "      <td>-1.019991</td>\n",
       "      <td>-2.811200</td>\n",
       "      <td>-2.467800</td>\n",
       "      <td>-1.823526</td>\n",
       "      <td>-1.800758</td>\n",
       "      <td>-1.915576</td>\n",
       "      <td>...</td>\n",
       "      <td>1.0</td>\n",
       "      <td>0.0</td>\n",
       "      <td>0.0</td>\n",
       "      <td>0.0</td>\n",
       "      <td>0.0</td>\n",
       "      <td>0.0</td>\n",
       "      <td>0.0</td>\n",
       "      <td>1.0</td>\n",
       "      <td>0.0</td>\n",
       "      <td>0.0</td>\n",
       "    </tr>\n",
       "    <tr>\n",
       "      <td>3</td>\n",
       "      <td>0.582157</td>\n",
       "      <td>-0.881697</td>\n",
       "      <td>1.407209</td>\n",
       "      <td>0.641524</td>\n",
       "      <td>-0.547232</td>\n",
       "      <td>-0.387965</td>\n",
       "      <td>0.549021</td>\n",
       "      <td>1.410120</td>\n",
       "      <td>0.205017</td>\n",
       "      <td>0.531540</td>\n",
       "      <td>...</td>\n",
       "      <td>0.0</td>\n",
       "      <td>0.0</td>\n",
       "      <td>0.0</td>\n",
       "      <td>0.0</td>\n",
       "      <td>0.0</td>\n",
       "      <td>0.0</td>\n",
       "      <td>0.0</td>\n",
       "      <td>0.0</td>\n",
       "      <td>1.0</td>\n",
       "      <td>0.0</td>\n",
       "    </tr>\n",
       "    <tr>\n",
       "      <td>4</td>\n",
       "      <td>-0.694684</td>\n",
       "      <td>-1.936085</td>\n",
       "      <td>1.410899</td>\n",
       "      <td>1.777550</td>\n",
       "      <td>0.412580</td>\n",
       "      <td>0.674359</td>\n",
       "      <td>0.787462</td>\n",
       "      <td>0.947432</td>\n",
       "      <td>0.383981</td>\n",
       "      <td>0.007158</td>\n",
       "      <td>...</td>\n",
       "      <td>0.0</td>\n",
       "      <td>0.0</td>\n",
       "      <td>0.0</td>\n",
       "      <td>0.0</td>\n",
       "      <td>1.0</td>\n",
       "      <td>0.0</td>\n",
       "      <td>0.0</td>\n",
       "      <td>1.0</td>\n",
       "      <td>0.0</td>\n",
       "      <td>0.0</td>\n",
       "    </tr>\n",
       "  </tbody>\n",
       "</table>\n",
       "<p>5 rows × 25 columns</p>\n",
       "</div>"
      ],
      "text/plain": [
       "         0         1         2         3         4         5         6   \\\n",
       "0 -1.796737  0.227639  0.552954  1.604026  2.415723  1.177480 -0.319210   \n",
       "1  1.332199  0.578985 -1.688188 -0.568197 -0.499866 -0.297252 -1.491752   \n",
       "2  1.127869  0.754469 -0.412016  1.206675 -1.019991 -2.811200 -2.467800   \n",
       "3  0.582157 -0.881697  1.407209  0.641524 -0.547232 -0.387965  0.549021   \n",
       "4 -0.694684 -1.936085  1.410899  1.777550  0.412580  0.674359  0.787462   \n",
       "\n",
       "         7         8         9   ...   15   16   17   18   19   20   21   22  \\\n",
       "0 -0.456949 -0.539055 -1.041606  ...  0.0  0.0  0.0  0.0  0.0  0.0  1.0  1.0   \n",
       "1 -2.164829 -1.035559 -2.090370  ...  0.0  0.0  0.0  0.0  0.0  0.0  0.0  1.0   \n",
       "2 -1.823526 -1.800758 -1.915576  ...  1.0  0.0  0.0  0.0  0.0  0.0  0.0  1.0   \n",
       "3  1.410120  0.205017  0.531540  ...  0.0  0.0  0.0  0.0  0.0  0.0  0.0  0.0   \n",
       "4  0.947432  0.383981  0.007158  ...  0.0  0.0  0.0  0.0  1.0  0.0  0.0  1.0   \n",
       "\n",
       "    23   24  \n",
       "0  0.0  0.0  \n",
       "1  0.0  0.0  \n",
       "2  0.0  0.0  \n",
       "3  1.0  0.0  \n",
       "4  0.0  0.0  \n",
       "\n",
       "[5 rows x 25 columns]"
      ]
     },
     "execution_count": 26,
     "metadata": {},
     "output_type": "execute_result"
    }
   ],
   "source": [
    "x_test_prepared=full_pipeline.transform(x_test)\n",
    "pd.DataFrame(x_test_prepared).head()"
   ]
  },
  {
   "cell_type": "code",
   "execution_count": 27,
   "metadata": {},
   "outputs": [
    {
     "data": {
      "text/html": [
       "<div>\n",
       "<style scoped>\n",
       "    .dataframe tbody tr th:only-of-type {\n",
       "        vertical-align: middle;\n",
       "    }\n",
       "\n",
       "    .dataframe tbody tr th {\n",
       "        vertical-align: top;\n",
       "    }\n",
       "\n",
       "    .dataframe thead th {\n",
       "        text-align: right;\n",
       "    }\n",
       "</style>\n",
       "<table border=\"1\" class=\"dataframe\">\n",
       "  <thead>\n",
       "    <tr style=\"text-align: right;\">\n",
       "      <th></th>\n",
       "      <th>wlf_hat</th>\n",
       "    </tr>\n",
       "  </thead>\n",
       "  <tbody>\n",
       "    <tr>\n",
       "      <td>0</td>\n",
       "      <td>True</td>\n",
       "    </tr>\n",
       "    <tr>\n",
       "      <td>1</td>\n",
       "      <td>True</td>\n",
       "    </tr>\n",
       "    <tr>\n",
       "      <td>2</td>\n",
       "      <td>False</td>\n",
       "    </tr>\n",
       "    <tr>\n",
       "      <td>3</td>\n",
       "      <td>True</td>\n",
       "    </tr>\n",
       "    <tr>\n",
       "      <td>4</td>\n",
       "      <td>True</td>\n",
       "    </tr>\n",
       "    <tr>\n",
       "      <td>...</td>\n",
       "      <td>...</td>\n",
       "    </tr>\n",
       "    <tr>\n",
       "      <td>145</td>\n",
       "      <td>False</td>\n",
       "    </tr>\n",
       "    <tr>\n",
       "      <td>146</td>\n",
       "      <td>False</td>\n",
       "    </tr>\n",
       "    <tr>\n",
       "      <td>147</td>\n",
       "      <td>False</td>\n",
       "    </tr>\n",
       "    <tr>\n",
       "      <td>148</td>\n",
       "      <td>False</td>\n",
       "    </tr>\n",
       "    <tr>\n",
       "      <td>149</td>\n",
       "      <td>False</td>\n",
       "    </tr>\n",
       "  </tbody>\n",
       "</table>\n",
       "<p>150 rows × 1 columns</p>\n",
       "</div>"
      ],
      "text/plain": [
       "     wlf_hat\n",
       "0       True\n",
       "1       True\n",
       "2      False\n",
       "3       True\n",
       "4       True\n",
       "..       ...\n",
       "145    False\n",
       "146    False\n",
       "147    False\n",
       "148    False\n",
       "149    False\n",
       "\n",
       "[150 rows x 1 columns]"
      ]
     },
     "execution_count": 27,
     "metadata": {},
     "output_type": "execute_result"
    }
   ],
   "source": [
    "# making predictions for the test data\n",
    "y_test_hat=linear_kernel_tuned.predict(x_test_prepared)\n",
    "y_test_hat=pd.DataFrame(y_test_hat).rename(columns={0:'wlf_hat'})\n",
    "y_test_hat"
   ]
  },
  {
   "cell_type": "code",
   "execution_count": 28,
   "metadata": {},
   "outputs": [],
   "source": [
    "from sklearn.metrics import accuracy_score"
   ]
  },
  {
   "cell_type": "code",
   "execution_count": 29,
   "metadata": {},
   "outputs": [
    {
     "data": {
      "text/plain": [
       "0.7666666666666667"
      ]
     },
     "execution_count": 29,
     "metadata": {},
     "output_type": "execute_result"
    }
   ],
   "source": [
    "lin_kernel_score=accuracy_score(y_test, y_test_hat)\n",
    "lin_kernel_score"
   ]
  },
  {
   "cell_type": "markdown",
   "metadata": {},
   "source": [
    "The linear kernel had an accuracy of 76.7%. We will compare the polynomial and radial basis function to this baseline.\n",
    "\n",
    "### Fitting a Support Vector Classifier with a polynomial kernel\n",
    "The benefit of the polynomial kernel is that we do not suffer from the combinatorial explosion from adding all the polynomial features to the data set."
   ]
  },
  {
   "cell_type": "code",
   "execution_count": 30,
   "metadata": {},
   "outputs": [
    {
     "data": {
      "text/plain": [
       "[0.05,\n",
       " 0.1,\n",
       " 0.15000000000000002,\n",
       " 0.2,\n",
       " 0.25,\n",
       " 0.3,\n",
       " 0.35000000000000003,\n",
       " 0.4,\n",
       " 0.45,\n",
       " 0.5,\n",
       " 0.55,\n",
       " 0.6000000000000001,\n",
       " 0.6500000000000001,\n",
       " 0.7000000000000001,\n",
       " 0.7500000000000001,\n",
       " 0.8,\n",
       " 0.8500000000000001,\n",
       " 0.9000000000000001,\n",
       " 0.9500000000000001]"
      ]
     },
     "execution_count": 30,
     "metadata": {},
     "output_type": "execute_result"
    }
   ],
   "source": [
    "gamma_tune=np.arange(0.05, 1.0, 0.05).tolist()\n",
    "for i in gamma_tune:\n",
    "    round(i, 2)\n",
    "gamma_tune"
   ]
  },
  {
   "cell_type": "code",
   "execution_count": 31,
   "metadata": {},
   "outputs": [
    {
     "data": {
      "text/plain": [
       "{'C': [0.001, 0.01, 0.1, 1, 10],\n",
       " 'gamma': [0.05,\n",
       "  0.1,\n",
       "  0.15000000000000002,\n",
       "  0.2,\n",
       "  0.25,\n",
       "  0.3,\n",
       "  0.35000000000000003,\n",
       "  0.4,\n",
       "  0.45,\n",
       "  0.5,\n",
       "  0.55,\n",
       "  0.6000000000000001,\n",
       "  0.6500000000000001,\n",
       "  0.7000000000000001,\n",
       "  0.7500000000000001,\n",
       "  0.8,\n",
       "  0.8500000000000001,\n",
       "  0.9000000000000001,\n",
       "  0.9500000000000001],\n",
       " 'degree': [2, 3, 4]}"
      ]
     },
     "execution_count": 31,
     "metadata": {},
     "output_type": "execute_result"
    }
   ],
   "source": [
    "poly_params={'C': [0.001, 0.01, 0.1, 1, 10], 'gamma': gamma_tune, 'degree': [2,3,4]}\n",
    "poly_params"
   ]
  },
  {
   "cell_type": "code",
   "execution_count": 32,
   "metadata": {},
   "outputs": [],
   "source": [
    "svc_poly=SVC(kernel='poly')"
   ]
  },
  {
   "cell_type": "code",
   "execution_count": 33,
   "metadata": {},
   "outputs": [],
   "source": [
    "svc_poly_models=RandomizedSearchCV(svc_poly,\n",
    "                                   poly_params,\n",
    "                                   n_iter=100,\n",
    "                                   scoring='accuracy',\n",
    "                                   n_jobs=-1,\n",
    "                                   cv=5,\n",
    "                                   random_state=402)"
   ]
  },
  {
   "cell_type": "code",
   "execution_count": 34,
   "metadata": {},
   "outputs": [
    {
     "name": "stderr",
     "output_type": "stream",
     "text": [
      "/Users/christianmontes/opt/anaconda3/lib/python3.7/site-packages/sklearn/model_selection/_search.py:814: DeprecationWarning: The default of the `iid` parameter will change from True to False in version 0.22 and will be removed in 0.24. This will change numeric results when test-set sizes are unequal.\n",
      "  DeprecationWarning)\n"
     ]
    },
    {
     "data": {
      "text/plain": [
       "RandomizedSearchCV(cv=5, error_score='raise-deprecating',\n",
       "                   estimator=SVC(C=1.0, cache_size=200, class_weight=None,\n",
       "                                 coef0=0.0, decision_function_shape='ovr',\n",
       "                                 degree=3, gamma='auto_deprecated',\n",
       "                                 kernel='poly', max_iter=-1, probability=False,\n",
       "                                 random_state=None, shrinking=True, tol=0.001,\n",
       "                                 verbose=False),\n",
       "                   iid='warn', n_iter=100, n_jobs=-1,\n",
       "                   param_distributions={'C': [0.001, 0....\n",
       "                                        'degree': [2, 3, 4],\n",
       "                                        'gamma': [0.05, 0.1,\n",
       "                                                  0.15000000000000002, 0.2,\n",
       "                                                  0.25, 0.3,\n",
       "                                                  0.35000000000000003, 0.4,\n",
       "                                                  0.45, 0.5, 0.55,\n",
       "                                                  0.6000000000000001,\n",
       "                                                  0.6500000000000001,\n",
       "                                                  0.7000000000000001,\n",
       "                                                  0.7500000000000001, 0.8,\n",
       "                                                  0.8500000000000001,\n",
       "                                                  0.9000000000000001,\n",
       "                                                  0.9500000000000001]},\n",
       "                   pre_dispatch='2*n_jobs', random_state=402, refit=True,\n",
       "                   return_train_score=False, scoring='accuracy', verbose=0)"
      ]
     },
     "execution_count": 34,
     "metadata": {},
     "output_type": "execute_result"
    }
   ],
   "source": [
    "svc_poly_models.fit(x_train_prepared, y_train)"
   ]
  },
  {
   "cell_type": "code",
   "execution_count": 35,
   "metadata": {},
   "outputs": [
    {
     "data": {
      "text/plain": [
       "{'gamma': 0.25, 'degree': 2, 'C': 1}"
      ]
     },
     "execution_count": 35,
     "metadata": {},
     "output_type": "execute_result"
    }
   ],
   "source": [
    "svc_poly_models.best_params_"
   ]
  },
  {
   "cell_type": "code",
   "execution_count": 36,
   "metadata": {},
   "outputs": [
    {
     "data": {
      "text/plain": [
       "SVC(C=1, cache_size=200, class_weight=None, coef0=0.0,\n",
       "    decision_function_shape='ovr', degree=2, gamma=0.25, kernel='poly',\n",
       "    max_iter=-1, probability=False, random_state=None, shrinking=True,\n",
       "    tol=0.001, verbose=False)"
      ]
     },
     "execution_count": 36,
     "metadata": {},
     "output_type": "execute_result"
    }
   ],
   "source": [
    "poly_kernel_tuned=svc_poly_models.best_estimator_\n",
    "poly_kernel_tuned"
   ]
  },
  {
   "cell_type": "code",
   "execution_count": 37,
   "metadata": {},
   "outputs": [
    {
     "data": {
      "text/html": [
       "<div>\n",
       "<style scoped>\n",
       "    .dataframe tbody tr th:only-of-type {\n",
       "        vertical-align: middle;\n",
       "    }\n",
       "\n",
       "    .dataframe tbody tr th {\n",
       "        vertical-align: top;\n",
       "    }\n",
       "\n",
       "    .dataframe thead th {\n",
       "        text-align: right;\n",
       "    }\n",
       "</style>\n",
       "<table border=\"1\" class=\"dataframe\">\n",
       "  <thead>\n",
       "    <tr style=\"text-align: right;\">\n",
       "      <th></th>\n",
       "      <th>wlf_hat</th>\n",
       "    </tr>\n",
       "  </thead>\n",
       "  <tbody>\n",
       "    <tr>\n",
       "      <td>0</td>\n",
       "      <td>True</td>\n",
       "    </tr>\n",
       "    <tr>\n",
       "      <td>1</td>\n",
       "      <td>True</td>\n",
       "    </tr>\n",
       "    <tr>\n",
       "      <td>2</td>\n",
       "      <td>False</td>\n",
       "    </tr>\n",
       "    <tr>\n",
       "      <td>3</td>\n",
       "      <td>False</td>\n",
       "    </tr>\n",
       "    <tr>\n",
       "      <td>4</td>\n",
       "      <td>True</td>\n",
       "    </tr>\n",
       "    <tr>\n",
       "      <td>...</td>\n",
       "      <td>...</td>\n",
       "    </tr>\n",
       "    <tr>\n",
       "      <td>145</td>\n",
       "      <td>True</td>\n",
       "    </tr>\n",
       "    <tr>\n",
       "      <td>146</td>\n",
       "      <td>True</td>\n",
       "    </tr>\n",
       "    <tr>\n",
       "      <td>147</td>\n",
       "      <td>True</td>\n",
       "    </tr>\n",
       "    <tr>\n",
       "      <td>148</td>\n",
       "      <td>False</td>\n",
       "    </tr>\n",
       "    <tr>\n",
       "      <td>149</td>\n",
       "      <td>True</td>\n",
       "    </tr>\n",
       "  </tbody>\n",
       "</table>\n",
       "<p>150 rows × 1 columns</p>\n",
       "</div>"
      ],
      "text/plain": [
       "     wlf_hat\n",
       "0       True\n",
       "1       True\n",
       "2      False\n",
       "3      False\n",
       "4       True\n",
       "..       ...\n",
       "145     True\n",
       "146     True\n",
       "147     True\n",
       "148    False\n",
       "149     True\n",
       "\n",
       "[150 rows x 1 columns]"
      ]
     },
     "execution_count": 37,
     "metadata": {},
     "output_type": "execute_result"
    }
   ],
   "source": [
    "y_poly_hat=poly_kernel_tuned.predict(x_test_prepared)\n",
    "y_poly_hat=pd.DataFrame(y_poly_hat).rename(columns={0:'wlf_hat'})\n",
    "y_poly_hat"
   ]
  },
  {
   "cell_type": "code",
   "execution_count": 38,
   "metadata": {},
   "outputs": [
    {
     "data": {
      "text/plain": [
       "0.78"
      ]
     },
     "execution_count": 38,
     "metadata": {},
     "output_type": "execute_result"
    }
   ],
   "source": [
    "poly_kernel_score=accuracy_score(y_test, y_poly_hat)\n",
    "poly_kernel_score"
   ]
  },
  {
   "cell_type": "markdown",
   "metadata": {},
   "source": [
    "Whereas the SVC with a linear kernel was able to achieve an accuracy of 76.7%, the SVC with a polynomial kernel was able to achieve an accuracy of 78%.\n",
    "\n",
    "### Fitting a Support Vector Classifier with a radial basis function kernel"
   ]
  },
  {
   "cell_type": "code",
   "execution_count": 40,
   "metadata": {},
   "outputs": [
    {
     "data": {
      "text/plain": [
       "{'C': [0.001, 0.01, 0.1, 1, 10, 20, 100],\n",
       " 'gamma': [0.05,\n",
       "  0.1,\n",
       "  0.15000000000000002,\n",
       "  0.2,\n",
       "  0.25,\n",
       "  0.3,\n",
       "  0.35000000000000003,\n",
       "  0.4,\n",
       "  0.45,\n",
       "  0.5,\n",
       "  0.55,\n",
       "  0.6000000000000001,\n",
       "  0.6500000000000001,\n",
       "  0.7000000000000001,\n",
       "  0.7500000000000001,\n",
       "  0.8,\n",
       "  0.8500000000000001,\n",
       "  0.9000000000000001,\n",
       "  0.9500000000000001]}"
      ]
     },
     "execution_count": 40,
     "metadata": {},
     "output_type": "execute_result"
    }
   ],
   "source": [
    "rbf_params={'C': [0.001, 0.01, 0.1, 1, 10, 20, 100], 'gamma': gamma_tune}\n",
    "rbf_params"
   ]
  },
  {
   "cell_type": "code",
   "execution_count": 41,
   "metadata": {},
   "outputs": [],
   "source": [
    "svc_rbf=SVC(kernel='rbf',\n",
    "           random_state=402)"
   ]
  },
  {
   "cell_type": "code",
   "execution_count": 42,
   "metadata": {},
   "outputs": [],
   "source": [
    "svc_rbf_models=RandomizedSearchCV(svc_rbf,\n",
    "                                 rbf_params,\n",
    "                                 n_iter=100,\n",
    "                                 scoring='accuracy',\n",
    "                                 n_jobs=-1,\n",
    "                                 cv=5,\n",
    "                                 random_state=402)"
   ]
  },
  {
   "cell_type": "code",
   "execution_count": 43,
   "metadata": {},
   "outputs": [
    {
     "name": "stderr",
     "output_type": "stream",
     "text": [
      "/Users/christianmontes/opt/anaconda3/lib/python3.7/site-packages/sklearn/model_selection/_search.py:814: DeprecationWarning: The default of the `iid` parameter will change from True to False in version 0.22 and will be removed in 0.24. This will change numeric results when test-set sizes are unequal.\n",
      "  DeprecationWarning)\n"
     ]
    },
    {
     "data": {
      "text/plain": [
       "RandomizedSearchCV(cv=5, error_score='raise-deprecating',\n",
       "                   estimator=SVC(C=1.0, cache_size=200, class_weight=None,\n",
       "                                 coef0=0.0, decision_function_shape='ovr',\n",
       "                                 degree=3, gamma='auto_deprecated',\n",
       "                                 kernel='rbf', max_iter=-1, probability=False,\n",
       "                                 random_state=402, shrinking=True, tol=0.001,\n",
       "                                 verbose=False),\n",
       "                   iid='warn', n_iter=100, n_jobs=-1,\n",
       "                   param_distributions={'C': [0.001, 0.01, 0.1, 1, 10, 20, 100],\n",
       "                                        'gamma': [0.05, 0.1,\n",
       "                                                  0.15000000000000002, 0.2,\n",
       "                                                  0.25, 0.3,\n",
       "                                                  0.35000000000000003, 0.4,\n",
       "                                                  0.45, 0.5, 0.55,\n",
       "                                                  0.6000000000000001,\n",
       "                                                  0.6500000000000001,\n",
       "                                                  0.7000000000000001,\n",
       "                                                  0.7500000000000001, 0.8,\n",
       "                                                  0.8500000000000001,\n",
       "                                                  0.9000000000000001,\n",
       "                                                  0.9500000000000001]},\n",
       "                   pre_dispatch='2*n_jobs', random_state=402, refit=True,\n",
       "                   return_train_score=False, scoring='accuracy', verbose=0)"
      ]
     },
     "execution_count": 43,
     "metadata": {},
     "output_type": "execute_result"
    }
   ],
   "source": [
    "# fitting the models to the prepared training data\n",
    "svc_rbf_models.fit(x_train_prepared, y_train)"
   ]
  },
  {
   "cell_type": "markdown",
   "metadata": {},
   "source": [
    "Now that the models have been searched over, we can looks at the best parameters that were determined to have the best accuracy."
   ]
  },
  {
   "cell_type": "code",
   "execution_count": 44,
   "metadata": {},
   "outputs": [
    {
     "data": {
      "text/plain": [
       "{'gamma': 0.05, 'C': 10}"
      ]
     },
     "execution_count": 44,
     "metadata": {},
     "output_type": "execute_result"
    }
   ],
   "source": [
    "svc_rbf_models.best_params_"
   ]
  },
  {
   "cell_type": "markdown",
   "metadata": {},
   "source": [
    "Let's take a look at how these compare to the best parameters that we obtain doing full grid search since our hyperparameter space is not that large.\n",
    "\n",
    "I will use the Sci-Kit Learn GridSearchCV class."
   ]
  },
  {
   "cell_type": "code",
   "execution_count": 46,
   "metadata": {},
   "outputs": [],
   "source": [
    "from sklearn.model_selection import GridSearchCV"
   ]
  },
  {
   "cell_type": "code",
   "execution_count": 49,
   "metadata": {},
   "outputs": [],
   "source": [
    "svc_full_search=GridSearchCV(svc_rbf,\n",
    "                            rbf_params,\n",
    "                            scoring='accuracy',\n",
    "                            n_jobs=-1,\n",
    "                            cv=5)"
   ]
  },
  {
   "cell_type": "code",
   "execution_count": 50,
   "metadata": {},
   "outputs": [
    {
     "name": "stderr",
     "output_type": "stream",
     "text": [
      "/Users/christianmontes/opt/anaconda3/lib/python3.7/site-packages/sklearn/model_selection/_search.py:814: DeprecationWarning: The default of the `iid` parameter will change from True to False in version 0.22 and will be removed in 0.24. This will change numeric results when test-set sizes are unequal.\n",
      "  DeprecationWarning)\n"
     ]
    },
    {
     "data": {
      "text/plain": [
       "GridSearchCV(cv=5, error_score='raise-deprecating',\n",
       "             estimator=SVC(C=1.0, cache_size=200, class_weight=None, coef0=0.0,\n",
       "                           decision_function_shape='ovr', degree=3,\n",
       "                           gamma='auto_deprecated', kernel='rbf', max_iter=-1,\n",
       "                           probability=False, random_state=402, shrinking=True,\n",
       "                           tol=0.001, verbose=False),\n",
       "             iid='warn', n_jobs=-1,\n",
       "             param_grid={'C': [0.001, 0.01, 0.1, 1, 10, 20, 100],\n",
       "                         'gamma': [0.05, 0.1, 0.15000000000000002, 0.2, 0.25,\n",
       "                                   0.3, 0.35000000000000003, 0.4, 0.45, 0.5,\n",
       "                                   0.55, 0.6000000000000001, 0.6500000000000001,\n",
       "                                   0.7000000000000001, 0.7500000000000001, 0.8,\n",
       "                                   0.8500000000000001, 0.9000000000000001,\n",
       "                                   0.9500000000000001]},\n",
       "             pre_dispatch='2*n_jobs', refit=True, return_train_score=False,\n",
       "             scoring='accuracy', verbose=0)"
      ]
     },
     "execution_count": 50,
     "metadata": {},
     "output_type": "execute_result"
    }
   ],
   "source": [
    "svc_full_search.fit(x_train_prepared, y_train)"
   ]
  },
  {
   "cell_type": "code",
   "execution_count": 52,
   "metadata": {},
   "outputs": [
    {
     "name": "stdout",
     "output_type": "stream",
     "text": [
      "Random search best parameters: {'gamma': 0.05, 'C': 10} \n",
      "Full search best parameters {'C': 10, 'gamma': 0.05}\n"
     ]
    }
   ],
   "source": [
    "print('Random search best parameters:', svc_rbf_models.best_params_, \n",
    "      '\\nFull search best parameters', svc_full_search.best_params_)"
   ]
  },
  {
   "cell_type": "markdown",
   "metadata": {},
   "source": [
    "Here we can see that both Randomized grid search and full grid search resulted in the same hyperparameters. I will now evaluate my best estimator's performace on the test data."
   ]
  },
  {
   "cell_type": "code",
   "execution_count": 53,
   "metadata": {},
   "outputs": [
    {
     "data": {
      "text/plain": [
       "SVC(C=10, cache_size=200, class_weight=None, coef0=0.0,\n",
       "    decision_function_shape='ovr', degree=3, gamma=0.05, kernel='rbf',\n",
       "    max_iter=-1, probability=False, random_state=402, shrinking=True, tol=0.001,\n",
       "    verbose=False)"
      ]
     },
     "execution_count": 53,
     "metadata": {},
     "output_type": "execute_result"
    }
   ],
   "source": [
    "rbf_kernel_tuned=svc_rbf_models.best_estimator_\n",
    "rbf_kernel_tuned"
   ]
  },
  {
   "cell_type": "code",
   "execution_count": 59,
   "metadata": {},
   "outputs": [
    {
     "data": {
      "text/plain": [
       "array([ True,  True, False,  True,  True, False,  True,  True,  True,\n",
       "        True, False, False,  True,  True,  True,  True, False,  True,\n",
       "        True,  True,  True,  True, False,  True, False, False, False,\n",
       "       False,  True, False,  True,  True, False, False, False,  True,\n",
       "       False, False,  True, False,  True, False, False, False, False,\n",
       "       False,  True,  True,  True, False, False,  True,  True, False,\n",
       "       False,  True, False,  True,  True,  True,  True,  True,  True,\n",
       "       False, False, False,  True,  True, False, False,  True, False,\n",
       "        True,  True,  True, False, False,  True,  True,  True,  True,\n",
       "       False,  True,  True, False, False, False, False,  True,  True,\n",
       "        True, False,  True,  True, False, False, False,  True,  True,\n",
       "       False,  True,  True,  True, False,  True, False,  True, False,\n",
       "       False,  True,  True, False,  True, False,  True, False,  True,\n",
       "        True, False, False,  True,  True, False, False, False, False,\n",
       "       False, False, False, False, False,  True, False,  True, False,\n",
       "       False,  True,  True, False, False,  True,  True, False,  True,\n",
       "       False,  True,  True,  True, False,  True])"
      ]
     },
     "execution_count": 59,
     "metadata": {},
     "output_type": "execute_result"
    }
   ],
   "source": [
    "y_rbf_hat=rbf_kernel_tuned.predict(x_test_prepared)\n",
    "y_rbf_hat"
   ]
  },
  {
   "cell_type": "code",
   "execution_count": 61,
   "metadata": {},
   "outputs": [
    {
     "data": {
      "text/html": [
       "<div>\n",
       "<style scoped>\n",
       "    .dataframe tbody tr th:only-of-type {\n",
       "        vertical-align: middle;\n",
       "    }\n",
       "\n",
       "    .dataframe tbody tr th {\n",
       "        vertical-align: top;\n",
       "    }\n",
       "\n",
       "    .dataframe thead th {\n",
       "        text-align: right;\n",
       "    }\n",
       "</style>\n",
       "<table border=\"1\" class=\"dataframe\">\n",
       "  <thead>\n",
       "    <tr style=\"text-align: right;\">\n",
       "      <th></th>\n",
       "      <th>wlf_hat</th>\n",
       "    </tr>\n",
       "  </thead>\n",
       "  <tbody>\n",
       "    <tr>\n",
       "      <td>0</td>\n",
       "      <td>True</td>\n",
       "    </tr>\n",
       "    <tr>\n",
       "      <td>1</td>\n",
       "      <td>True</td>\n",
       "    </tr>\n",
       "    <tr>\n",
       "      <td>2</td>\n",
       "      <td>False</td>\n",
       "    </tr>\n",
       "    <tr>\n",
       "      <td>3</td>\n",
       "      <td>True</td>\n",
       "    </tr>\n",
       "    <tr>\n",
       "      <td>4</td>\n",
       "      <td>True</td>\n",
       "    </tr>\n",
       "    <tr>\n",
       "      <td>...</td>\n",
       "      <td>...</td>\n",
       "    </tr>\n",
       "    <tr>\n",
       "      <td>145</td>\n",
       "      <td>True</td>\n",
       "    </tr>\n",
       "    <tr>\n",
       "      <td>146</td>\n",
       "      <td>True</td>\n",
       "    </tr>\n",
       "    <tr>\n",
       "      <td>147</td>\n",
       "      <td>True</td>\n",
       "    </tr>\n",
       "    <tr>\n",
       "      <td>148</td>\n",
       "      <td>False</td>\n",
       "    </tr>\n",
       "    <tr>\n",
       "      <td>149</td>\n",
       "      <td>True</td>\n",
       "    </tr>\n",
       "  </tbody>\n",
       "</table>\n",
       "<p>150 rows × 1 columns</p>\n",
       "</div>"
      ],
      "text/plain": [
       "     wlf_hat\n",
       "0       True\n",
       "1       True\n",
       "2      False\n",
       "3       True\n",
       "4       True\n",
       "..       ...\n",
       "145     True\n",
       "146     True\n",
       "147     True\n",
       "148    False\n",
       "149     True\n",
       "\n",
       "[150 rows x 1 columns]"
      ]
     },
     "execution_count": 61,
     "metadata": {},
     "output_type": "execute_result"
    }
   ],
   "source": [
    "y_rbf_hat=pd.DataFrame(y_rbf_hat).rename(columns={0: 'wlf_hat'})\n",
    "y_rbf_hat"
   ]
  },
  {
   "cell_type": "code",
   "execution_count": 62,
   "metadata": {},
   "outputs": [
    {
     "data": {
      "text/plain": [
       "0.8"
      ]
     },
     "execution_count": 62,
     "metadata": {},
     "output_type": "execute_result"
    }
   ],
   "source": [
    "rbf_kernel_score=accuracy_score(y_test, y_rbf_hat)\n",
    "rbf_kernel_score"
   ]
  },
  {
   "cell_type": "markdown",
   "metadata": {},
   "source": [
    "I fit three different Support Vector Classifiers onto the wildfire data. I used a linear, polynomial, and radial basis function kernel. Each resulted in a decent accuracy score. The rbf kernel, however, resulted in the highest of the three."
   ]
  },
  {
   "cell_type": "code",
   "execution_count": 68,
   "metadata": {},
   "outputs": [
    {
     "name": "stdout",
     "output_type": "stream",
     "text": [
      "Linear kernel score: 0.77\n",
      "Polynomial kernel score: 0.78\n",
      "RBF kernel score: 0.8\n"
     ]
    }
   ],
   "source": [
    "names=['Linear kernel score', 'Polynomial kernel score', 'RBF kernel score']\n",
    "scores=[lin_kernel_score, poly_kernel_score, rbf_kernel_score]\n",
    "\n",
    "for name,score in zip(names, scores):\n",
    "    print(name + ': ' + str(round(score, 2)))"
   ]
  },
  {
   "cell_type": "code",
   "execution_count": null,
   "metadata": {},
   "outputs": [],
   "source": []
  },
  {
   "cell_type": "code",
   "execution_count": null,
   "metadata": {},
   "outputs": [],
   "source": []
  }
 ],
 "metadata": {
  "kernelspec": {
   "display_name": "Python 3",
   "language": "python",
   "name": "python3"
  },
  "language_info": {
   "codemirror_mode": {
    "name": "ipython",
    "version": 3
   },
   "file_extension": ".py",
   "mimetype": "text/x-python",
   "name": "python",
   "nbconvert_exporter": "python",
   "pygments_lexer": "ipython3",
   "version": "3.7.4"
  }
 },
 "nbformat": 4,
 "nbformat_minor": 2
}
